{
 "cells": [
  {
   "cell_type": "code",
   "execution_count": 6,
   "id": "5e23d4dc-71f1-476d-92fc-4ed664f32757",
   "metadata": {},
   "outputs": [],
   "source": [
    "def next_permutation(nums):\n",
    "    \"\"\"\n",
    "    주어진 리스트 nums의 다음 순열을 생성하는 함수.\n",
    "    다음 순열이 없으면 리스트를 가장 작은 순열(오름차순 정렬)로 변환함.\n",
    "    \n",
    "    :param nums: List[int] - 다음 순열을 생성할 정수 리스트.\n",
    "    \"\"\"\n",
    "    n = len(nums)\n",
    "    \n",
    "    # Step 1: nums[i] < nums[i + 1]을 만족하는 가장 큰 인덱스 i 찾기\n",
    "    i = n - 2\n",
    "    while i >= 0 and nums[i] >= nums[i + 1]:\n",
    "        print('여기', i)\n",
    "        i -= 1\n",
    "    \n",
    "    if i >= 0:  # 인덱스 i가 존재하는 경우\n",
    "        # Step 2: nums[j] > nums[i]를 만족하는 가장 큰 인덱스 j 찾기\n",
    "        j = n - 1\n",
    "        while nums[j] <= nums[i]:\n",
    "            j -= 1\n",
    "        \n",
    "        # Step 3: nums[i]와 nums[j] 스왑하기\n",
    "        nums[i], nums[j] = nums[j], nums[i]\n",
    "    \n",
    "    # Step 4: nums[i + 1]부터 끝까지의 리스트를 뒤집기\n",
    "    nums[i + 1:] = reversed(nums[i + 1:])\n",
    "\n"
   ]
  },
  {
   "cell_type": "code",
   "execution_count": 9,
   "id": "4f1177f0-b20a-494f-b750-40b534d11cbd",
   "metadata": {},
   "outputs": [
    {
     "name": "stdout",
     "output_type": "stream",
     "text": [
      "[1, 5, 2, 4, 3]\n"
     ]
    }
   ],
   "source": [
    "# 사용 예시\n",
    "arr = [1,5, 2, 3,4]\n",
    "next_permutation(arr)\n",
    "print(arr)  # [1, 3, 2]"
   ]
  },
  {
   "cell_type": "code",
   "execution_count": 13,
   "id": "d3436479-658d-480f-8a84-8a7a39c3f544",
   "metadata": {},
   "outputs": [
    {
     "name": "stdout",
     "output_type": "stream",
     "text": [
      "스택 아님?\n"
     ]
    }
   ],
   "source": [
    "stack = []\n",
    "\n",
    "if not stack:\n",
    "    print('스택 아님?')\n",
    "\n",
    "\n",
    "\n"
   ]
  },
  {
   "cell_type": "code",
   "execution_count": 24,
   "id": "ada77bf3-45a5-4afc-bf6d-f61e95a74306",
   "metadata": {},
   "outputs": [
    {
     "name": "stdout",
     "output_type": "stream",
     "text": [
      "남은수 decimal 5\n",
      "남은수 decimal 2\n",
      "남은수 decimal 1\n",
      "남은수 decimal 0\n",
      "1010\n",
      "남은수 decimal 7\n",
      "남은수 decimal 3\n",
      "남은수 decimal 1\n",
      "남은수 decimal 0\n",
      "1111\n",
      "남은수 decimal 1\n",
      "남은수 decimal 0\n",
      "10\n",
      "\n"
     ]
    }
   ],
   "source": [
    "def solution(decimal):\n",
    "    \"\"\"\n",
    "    주어진 10진수를 2진수로 변환하는 함수.\n",
    "    \n",
    "    :param decimal: int - 변환할 10진수 정수.\n",
    "    :return: str - 2진수로 변환된 문자열.\n",
    "    \"\"\"\n",
    "    # 스택 초기화\n",
    "    stack = []\n",
    "    \n",
    "    # 10진수를 2진수로 변환\n",
    "    while decimal > 0:\n",
    "        remainder = decimal % 2  # 나머지 구하기\n",
    "        stack.append(str(remainder))  # 나머지를 문자열로 변환하여 스택에 추가\n",
    "        decimal //= 2  # 2로 나누기\n",
    "        print('남은수 decimal', decimal)\n",
    "\n",
    "    binary = \"\"\n",
    "    \n",
    "    # 스택에서 값을 꺼내어 2진수 문자열 생성\n",
    "    while stack:\n",
    "        binary += stack.pop()  # 스택의 값을 문자열에 추가\n",
    "\n",
    "    return binary\n",
    "\n",
    "# 사용 예시\n",
    "print(solution(10))  # '1010'\n",
    "print(solution(15))  # '1111'\n",
    "print(solution(2))   # '10'\n",
    "print(solution(0))   # ''\n"
   ]
  },
  {
   "cell_type": "code",
   "execution_count": 29,
   "id": "ecc49cc9-3fda-4389-900c-81e13eed0be2",
   "metadata": {},
   "outputs": [
    {
     "name": "stdout",
     "output_type": "stream",
     "text": [
      "5\n",
      "2\n",
      "1\n"
     ]
    }
   ],
   "source": [
    "a = 10\n",
    "\n",
    "a //= 2\n",
    "\n",
    "print(a)\n",
    "\n",
    "a //= 2\n",
    "\n",
    "print(a)\n",
    "\n",
    "a //= 2\n",
    "\n",
    "print(a)"
   ]
  },
  {
   "cell_type": "code",
   "execution_count": 32,
   "id": "bd7dd920-697f-45d7-a970-24b92fd9b3b8",
   "metadata": {},
   "outputs": [
    {
     "data": {
      "text/plain": [
       "2.0"
      ]
     },
     "execution_count": 32,
     "metadata": {},
     "output_type": "execute_result"
    }
   ],
   "source": [
    "4/2"
   ]
  }
 ],
 "metadata": {
  "kernelspec": {
   "display_name": "Python 3 (ipykernel)",
   "language": "python",
   "name": "python3"
  },
  "language_info": {
   "codemirror_mode": {
    "name": "ipython",
    "version": 3
   },
   "file_extension": ".py",
   "mimetype": "text/x-python",
   "name": "python",
   "nbconvert_exporter": "python",
   "pygments_lexer": "ipython3",
   "version": "3.12.3"
  }
 },
 "nbformat": 4,
 "nbformat_minor": 5
}
