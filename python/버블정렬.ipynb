{
 "cells": [
  {
   "cell_type": "raw",
   "id": "cd6f234c-e067-4cbe-bc5c-65238b741dd8",
   "metadata": {},
   "source": [
    "버블 정렬(base:배열의 시작 주소, n: 원소 개수, compare:비교 논리)\n",
    "   반복(i:=n;  i>1  ; i:= i-1)\n",
    "      반복(j:=1; j<i ; j:=j+1)\n",
    "         조건(compare(base[j-1], base[j]) > 0)\n",
    "            교환(base[j-1],base[j])\n",
    "            "
   ]
  },
  {
   "cell_type": "code",
   "execution_count": 6,
   "id": "e1953900-b456-439e-90dd-0512efdb3bfe",
   "metadata": {},
   "outputs": [],
   "source": [
    "data = [3, 2, 1, 4, 5]"
   ]
  },
  {
   "cell_type": "code",
   "execution_count": 7,
   "id": "afe7ed31-7578-4655-ae5f-5111ed02717c",
   "metadata": {},
   "outputs": [
    {
     "data": {
      "text/plain": [
       "[1, 2, 3, 4, 5]"
      ]
     },
     "execution_count": 7,
     "metadata": {},
     "output_type": "execute_result"
    }
   ],
   "source": [
    "def bubble_sort(arr):\n",
    "    # 리스트의 끝부터 시작하여 1까지 감소하는 루프\n",
    "    for i in range(len(arr) - 1, 0, -1):\n",
    "        swapped = False  # 스왑 여부를 나타내는 변수 초기화\n",
    "        # 현재 정렬할 부분에 대한 루프\n",
    "        for j in range(i):\n",
    "            # 현재 원소와 다음 원소 비교하여 정렬 순서가 맞지 않으면 스왑\n",
    "            if arr[j] > arr[j + 1]:\n",
    "                arr[j], arr[j + 1] = arr[j + 1], arr[j]\n",
    "                swapped = True  # 스왑이 발생했음을 표시\n",
    "        # 만약 스왑이 발생하지 않았다면 정렬이 완료되었으므로 종료\n",
    "        if not swapped:\n",
    "            break\n",
    "    return arr  # 정렬된 리스트 반환\n",
    "\n",
    "bubble_sort(data)  # 함수 호출\n"
   ]
  },
  {
   "cell_type": "code",
   "execution_count": 11,
   "id": "8877c21f-0424-49df-a561-e83cf484fbb7",
   "metadata": {},
   "outputs": [
    {
     "name": "stdout",
     "output_type": "stream",
     "text": [
      "배열의 길이 :  5\n"
     ]
    },
    {
     "data": {
      "text/plain": [
       "([1, 2, 3, 4, 5], 0)"
      ]
     },
     "execution_count": 11,
     "metadata": {},
     "output_type": "execute_result"
    }
   ],
   "source": [
    "def bubble_sort_ascending(data):\n",
    "    ## 총 교환 횟수를 기록하는 변수 (버블 정렬 원리 4)\n",
    "    n_swap = 0\n",
    "\n",
    "    print('배열의 길이 : ',len(data))\n",
    " \n",
    "    ## 총 비교 횟수는 데이터 길이보다 1회 작게 이루어져야 함 (버블정렬 원리1)\n",
    "    for i in range(len(data) - 1): # 0 1 2 3 \n",
    "        \n",
    "        ## 정렬이 다 끝났는지 확인하는 변수\n",
    "        swap = False\n",
    "        \n",
    "        \n",
    "        ## 정리된 데이터는 반복할 필요가 없기 때문에 i회를 제외 시킨다.\n",
    "        for i2 in range(len(data) - i - 1): # 4 3 2 1\n",
    " \n",
    "            ## 버블 정렬을 오름차순 혹은 내림차순으로 결정할 수 있는 영역\n",
    "            if data[i2] > data[i2 + 1]:\n",
    "                \n",
    "                ## 순서를 바꿔 준 뒤에 교환이 이뤄졌음을 알린다.\n",
    "                data[i2], data[i2 + 1] = data[i2 + 1], data[i2]\n",
    "                swap = True\n",
    "                n_swap += 1\n",
    " \n",
    "        ## 1회 로직을 돌았음에도 불구하고 교환이 발생하지 않으면 Loop를 종료한다.        \n",
    "        if swap == False:\n",
    "            break\n",
    "    return data , n_swap\n",
    "    \n",
    "bubble_sort_ascending(data)"
   ]
  },
  {
   "cell_type": "code",
   "execution_count": 12,
   "id": "c47684c3-acc7-4669-b98d-f4aae1027c2d",
   "metadata": {},
   "outputs": [
    {
     "name": "stdout",
     "output_type": "stream",
     "text": [
      "0\n",
      "1\n",
      "2\n",
      "3\n",
      "4\n"
     ]
    }
   ],
   "source": [
    "for i in range(5):\n",
    "    print(i)"
   ]
  }
 ],
 "metadata": {
  "kernelspec": {
   "display_name": "Python 3 (ipykernel)",
   "language": "python",
   "name": "python3"
  },
  "language_info": {
   "codemirror_mode": {
    "name": "ipython",
    "version": 3
   },
   "file_extension": ".py",
   "mimetype": "text/x-python",
   "name": "python",
   "nbconvert_exporter": "python",
   "pygments_lexer": "ipython3",
   "version": "3.12.3"
  }
 },
 "nbformat": 4,
 "nbformat_minor": 5
}
